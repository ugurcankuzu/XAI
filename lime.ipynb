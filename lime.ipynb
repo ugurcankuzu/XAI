{
  "nbformat": 4,
  "nbformat_minor": 0,
  "metadata": {
    "colab": {
      "provenance": [],
      "authorship_tag": "ABX9TyPWjqF0kGuNarZKLX7lurq+",
      "include_colab_link": true
    },
    "kernelspec": {
      "name": "python3",
      "display_name": "Python 3"
    },
    "language_info": {
      "name": "python"
    }
  },
  "cells": [
    {
      "cell_type": "markdown",
      "metadata": {
        "id": "view-in-github",
        "colab_type": "text"
      },
      "source": [
        "<a href=\"https://colab.research.google.com/github/ugurcankuzu/XAI/blob/main/lime.ipynb\" target=\"_parent\"><img src=\"https://colab.research.google.com/assets/colab-badge.svg\" alt=\"Open In Colab\"/></a>"
      ]
    },
    {
      "cell_type": "markdown",
      "source": [
        "Bu notebook'ta XAI için bir diğer yöntem olan LIME'a göz atacağız.\n",
        "\n",
        "Öncelikle pip kurulumlarını yapıp projeye dahil edelim."
      ],
      "metadata": {
        "id": "G48Kx2DBDlLa"
      }
    },
    {
      "cell_type": "code",
      "execution_count": null,
      "metadata": {
        "id": "2OAkIvxD1vWK"
      },
      "outputs": [],
      "source": [
        "!pip install lime\n",
        "import lime\n",
        "import lime.lime_tabular\n",
        "import pickle"
      ]
    },
    {
      "cell_type": "markdown",
      "source": [
        "Yine önceden kaydettiğimiz verileri ve modeli pickle yardımıyla çıkartıp projemizde tanımlıyoruz."
      ],
      "metadata": {
        "id": "q5zdncbMDwJK"
      }
    },
    {
      "cell_type": "code",
      "source": [
        "with open(\"datasetAndModelOut.pkl\",\"rb\") as f:\n",
        "  lr = pickle.load(f)\n",
        "  testX = pickle.load(f)\n",
        "  trainX = pickle.load(f)\n",
        "  testY = pickle.load(f)\n",
        "  trainY = pickle.load(f)"
      ],
      "metadata": {
        "id": "LTgGPsk42Hjs"
      },
      "execution_count": null,
      "outputs": []
    },
    {
      "cell_type": "markdown",
      "source": [
        "Burada Lime içerisinde lime_tabular alt modülünden Lime Tabular Explainer'ı çağırıyoruz. Lineer bir model ile çalıştığımız için burada burada TabularExplainer kullanıyoruz.\n",
        "\n",
        "LimeTabularExplainer içerisine testX verilerimizin değerlerini, özellik adı olarak testX verimizdeki kolon adlarını ve Explainer modunu da regression şeklinde argüman olarak veriyoruz."
      ],
      "metadata": {
        "id": "mBbmSq9UD1Ug"
      }
    },
    {
      "cell_type": "code",
      "source": [
        "\n",
        "limeExp = lime.lime_tabular.LimeTabularExplainer(testX.values,feature_names=testX.columns,mode=\"regression\")"
      ],
      "metadata": {
        "id": "wUHN38Bg2QAu"
      },
      "execution_count": null,
      "outputs": []
    },
    {
      "cell_type": "markdown",
      "source": [
        "Aşağıdaki kod satırında ise oluşturduğumuz explainer'a ait explain instance metodunu çağırıyoruz. Bu metod aracılığı ile testX verimizdeki istediğimiz indexteki örnek için yapılan tahminin detaylarını görebiliyoruz.\n",
        "\n",
        "Metoda argüman olarak istediğimiz indeksteki testX verilerini ve tahmin yaptırmak için gerekli olan predict metodunu yolluyoruz. Ve bunun çıktısını bir değişkende tutuyoruz."
      ],
      "metadata": {
        "id": "6dabesqqEQ2t"
      }
    },
    {
      "cell_type": "code",
      "source": [
        "explanation = limeExp.explain_instance(testX.iloc[10],lr.predict)"
      ],
      "metadata": {
        "colab": {
          "base_uri": "https://localhost:8080/"
        },
        "id": "Hp2VMERc4h-Q",
        "outputId": "fc25bf37-a879-4c9d-c9b4-5e5bb9fd76e9"
      },
      "execution_count": null,
      "outputs": [
        {
          "output_type": "stream",
          "name": "stderr",
          "text": [
            "/usr/local/lib/python3.8/dist-packages/sklearn/base.py:450: UserWarning: X does not have valid feature names, but LinearRegression was fitted with feature names\n",
            "  warnings.warn(\n"
          ]
        }
      ]
    },
    {
      "cell_type": "markdown",
      "source": [
        "Elimizdeki explanation değişkenini kullanarak çizim yaptırabiliriz.\n",
        "\n",
        "Bu çizimde gördüğümüz üzere local bir explanation elde ediyoruz ve bu tahmin için her bir özelliğin ne kadar ve ne yönde etken olduğunu görebiliyoruz."
      ],
      "metadata": {
        "id": "GkUlO1OvE3bo"
      }
    },
    {
      "cell_type": "code",
      "source": [
        "explanation.as_pyplot_figure()"
      ],
      "metadata": {
        "colab": {
          "base_uri": "https://localhost:8080/",
          "height": 545
        },
        "id": "WP5hZz0M49md",
        "outputId": "335fd029-2867-4fda-e043-49f4649690d7"
      },
      "execution_count": null,
      "outputs": [
        {
          "output_type": "execute_result",
          "data": {
            "text/plain": [
              "<Figure size 432x288 with 1 Axes>"
            ],
            "image/png": "[encoded data removed]"
          },
          "metadata": {},
          "execution_count": 19
        },
        {
          "output_type": "display_data",
          "data": {
            "text/plain": [
              "<Figure size 432x288 with 1 Axes>"
            ],
            "image/png": "[encoded data removed]"
          },
          "metadata": {
            "needs_background": "light"
          }
        }
      ]
    },
    {
      "cell_type": "markdown",
      "source": [
        "Aşağıda ise çizimini yaptırmak için seçtiğimiz örneğe ait bilgiler ve olması gereken tahmin fiyatı yer almaktadır."
      ],
      "metadata": {
        "id": "YvtuJRM0FNPb"
      }
    },
    {
      "cell_type": "code",
      "source": [
        "print(testX.iloc[10])\n",
        "print(\"predicted price that must be : {}\".format(testY.iloc[10]))"
      ],
      "metadata": {
        "colab": {
          "base_uri": "https://localhost:8080/"
        },
        "id": "HMwWiiUR5moO",
        "outputId": "35f23362-71de-4de7-b5ca-006a0b224afe"
      },
      "execution_count": null,
      "outputs": [
        {
          "output_type": "stream",
          "name": "stdout",
          "text": [
            "Year              2014.0\n",
            "Present_Price       14.0\n",
            "Driven_kms       63000.0\n",
            "Fuel_Type            1.0\n",
            "Selling_type         0.0\n",
            "Transmission         0.0\n",
            "Owner                0.0\n",
            "Name: 282, dtype: float64\n",
            "predicted price that must be : 8.25\n"
          ]
        }
      ]
    }
  ]
}